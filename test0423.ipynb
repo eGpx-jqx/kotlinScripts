{
 "cells": [
  {
   "cell_type": "code",
   "metadata": {
    "collapsed": true,
    "ExecuteTime": {
     "end_time": "2025-04-24T01:15:44.521875300Z",
     "start_time": "2025-04-24T01:15:39.070369600Z"
    }
   },
   "source": [
    "@file:DependsOn(\"com.alibaba:easyexcel:4.0.3\")\n",
    "@file:DependsOn(\"com.fasterxml.jackson.module:jackson-module-kotlin:2.17.2\")"
   ],
   "outputs": [],
   "execution_count": 1
  },
  {
   "metadata": {
    "ExecuteTime": {
     "end_time": "2025-04-23T12:46:46.444717700Z",
     "start_time": "2025-04-23T12:46:45.953426100Z"
    }
   },
   "cell_type": "code",
   "source": [
    "import com.alibaba.excel.EasyExcel\n",
    "import com.alibaba.excel.read.listener.PageReadListener\n",
    "import com.alibaba.excel.annotation.ExcelProperty\n",
    "\n",
    "data class SourceData(\n",
    "    @ExcelProperty(\"ProductID\")\n",
    "    var ProductID: String? = null,\n",
    "\n",
    "    @ExcelProperty(\"ProductType\")\n",
    "    var ProductType: String? = null,\n",
    "\n",
    "    @ExcelProperty(\"TravelDays\")\n",
    "    var TravelDays: String? = null,\n",
    "\n",
    "    @ExcelProperty(\"ProductName\")\n",
    "    var ProductName: String? = null,\n",
    "\n",
    "    @ExcelProperty(\"TourLineID\")\n",
    "    var TourLineID: String? = null,\n",
    "\n",
    "    @ExcelProperty(\"TourLineName\")\n",
    "    var TourLineName: String? = null,\n",
    "\n",
    "    @ExcelProperty(\"cityIds\")\n",
    "    var cityIds: String? = null,\n",
    "\n",
    "    @ExcelProperty(\"cityNames\")\n",
    "    var cityNames: String? = null,\n",
    "\n",
    "    @ExcelProperty(\"poids\")\n",
    "    var poids: String? = null\n",
    ")\n",
    "\n",
    "val trs = mutableListOf<SourceData>()\n",
    "EasyExcel.read(\"D:\\\\Users\\\\jinqiangxu\\\\Downloads\\\\马德里.xlsx\",SourceData::class.java, PageReadListener<SourceData>(trs::addAll, 1000)).sheet().doRead()\n",
    "trs.first()"
   ],
   "outputs": [
    {
     "data": {
      "text/plain": [
       "SourceData(ProductID=12385, ProductType=2, TravelDays=10, ProductName=【稅項全包】歐洲三國 (西班牙、法國、瑞士) 10天團, TourLineID=90, TourLineName=歐洲, cityIds=357,434,434,666,666,712,712,713,772,772,1361,1361,1483,1713,1713,3154,3176,3176,3524,9338,61143,61143,513870,518175, cityNames=馬德里,蘇黎世,蘇黎世,日內瓦,日內瓦,馬賽,馬賽,里昂,畢爾巴鄂,畢爾巴鄂,圖盧茲,圖盧茲,琉森,亞維儂,亞維儂,洛桑,桑坦德,桑坦德,阿爾斯,阿維拉,伯恩,伯恩,拉蒙塔尼,艾克斯, poids=0,0,0,0,617,868,0,0,0,0,7095,7096,0,0,0,0,7097,250,0,0,0,0,0,7113,7099,0,0,0,0,7100,871,0,0,0,0,7101,236,0,0,0,0,0,721,3045,235,0,0,0,0,7054,0,0,0,0,0)"
      ]
     },
     "execution_count": 17,
     "metadata": {},
     "output_type": "execute_result"
    }
   ],
   "execution_count": 17
  }
 ],
 "metadata": {
  "kernelspec": {
   "display_name": "Kotlin",
   "language": "kotlin",
   "name": "kotlin"
  },
  "language_info": {
   "name": "kotlin",
   "version": "1.9.23",
   "mimetype": "text/x-kotlin",
   "file_extension": ".kt",
   "pygments_lexer": "kotlin",
   "codemirror_mode": "text/x-kotlin",
   "nbconvert_exporter": ""
  }
 },
 "nbformat": 4,
 "nbformat_minor": 0
}
