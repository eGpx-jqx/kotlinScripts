{
 "cells": [
  {
   "cell_type": "code",
   "metadata": {
    "collapsed": true,
    "ExecuteTime": {
     "end_time": "2025-05-08T01:05:53.793466800Z",
     "start_time": "2025-05-08T01:05:44.912866500Z"
    }
   },
   "source": [
    "%use dataframe\n",
    "@file:DependsOn(\"org.apache.logging.log4j:log4j-core:2.24.3\")"
   ],
   "outputs": [],
   "execution_count": 1
  },
  {
   "metadata": {},
   "cell_type": "code",
   "source": [
    "import org.apache.poi.xssf.usermodel.XSSFWorkbook\n",
    "\n",
    "val read = DataFrame.readExcel(file = File(\"D:\\\\Users\\\\jinqiangxu\\\\Downloads\\\\马德里.xlsx\"), sheetName = \"sheet1\")\n",
    "val filter = read\n",
    "    .filter { \"TravelDays\"<String>().toInt() > 9 }\n",
    "    .sortBy { \"TravelDays\"<String>().convertToInt() }\n",
    "    .rename(\"TravelDays\").into(\"PPP\")\n",
    "\n",
    "read.writeExcel()\n",
    "val column = filter.getColumn(3)\n",
    "column"
   ],
   "outputs": [],
   "execution_count": null
  },
  {
   "metadata": {
    "ExecuteTime": {
     "end_time": "2025-04-27T01:42:06.452432800Z",
     "start_time": "2025-04-27T01:42:06.342839300Z"
    }
   },
   "cell_type": "code",
   "source": [
    "val x: Int? = 42\n",
    "fun checkAndCalculate() {\n",
    "    if (x != null) {\n",
    "        println(x * 2)\n",
    "    }\n",
    "    x\n",
    "}\n",
    "\n"
   ],
   "outputs": [
    {
     "data": {
      "text/plain": [
       "Tell me and I forget.\n",
       "Teach me and I remember.\n",
       "Involve me and I learn.\n",
       "(Benjamin Franklin)"
      ]
     },
     "execution_count": 5,
     "metadata": {},
     "output_type": "execute_result"
    }
   ],
   "execution_count": 5
  }
 ],
 "metadata": {
  "kernelspec": {
   "display_name": "Kotlin",
   "language": "kotlin",
   "name": "kotlin"
  },
  "language_info": {
   "name": "kotlin",
   "version": "1.9.23",
   "mimetype": "text/x-kotlin",
   "file_extension": ".kt",
   "pygments_lexer": "kotlin",
   "codemirror_mode": "text/x-kotlin",
   "nbconvert_exporter": ""
  }
 },
 "nbformat": 4,
 "nbformat_minor": 0
}
